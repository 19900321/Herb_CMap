{
 "cells": [
  {
   "cell_type": "code",
   "execution_count": 1,
   "metadata": {},
   "outputs": [],
   "source": [
    "import pandas as pd\n",
    "import numpy as np\n",
    "from scipy import stats\n",
    "from construct_network import Construct_Network"
   ]
  },
  {
   "cell_type": "markdown",
   "metadata": {},
   "source": [
    "## 1. Prepare weighted PPI"
   ]
  },
  {
   "cell_type": "code",
   "execution_count": 2,
   "metadata": {},
   "outputs": [],
   "source": [
    "from prepared_weighted_ppi import pre_weighted_ppi\n",
    "ppi_pd = pd.read_csv('resource_data/PPI.csv')\n",
    "suhuang_expressionp_pd = pd.read_csv('resource_data/SHVSM_expr_result_all.csv')\n",
    "weighted_ppi_sif = pre_weighted_ppi(ppi_pd, suhuang_expressionp_pd)\n",
    "# save weighted ppi out\n",
    "weighted_ppi_sif.to_csv('resource_data/ppi_weighted.sif', header=None, sep='\\t', index = None)"
   ]
  },
  {
   "cell_type": "markdown",
   "metadata": {},
   "source": [
    "## 2. load weighted network to construct network"
   ]
  },
  {
   "cell_type": "code",
   "execution_count": 3,
   "metadata": {},
   "outputs": [],
   "source": [
    "import pickle\n",
    "\n",
    "g_obj = Construct_Network('resource_data/ppi_weighted.sif')\n",
    "nodes_ppi = g_obj.G.nodes\n",
    "\n",
    "# save out as dictionar to save time\n",
    "with(open('resource_data/suhuang_weighted_g_obj.obj', 'wb')) as handle:\n",
    "        pickle.dump(g_obj, handle)\n",
    "        "
   ]
  },
  {
   "cell_type": "code",
   "execution_count": 4,
   "metadata": {},
   "outputs": [],
   "source": [
    "import pickle\n",
    "g_obj  = pickle.load(open('resource_data/suhuang_weighted_g_obj.obj', 'rb'))\n",
    "nodes_ppi = g_obj.G.nodes"
   ]
  },
  {
   "cell_type": "markdown",
   "metadata": {},
   "source": [
    "## 3. prepare pathways annotation"
   ]
  },
  {
   "cell_type": "code",
   "execution_count": 5,
   "metadata": {},
   "outputs": [],
   "source": [
    "# from utitilize import prepare_pathway_genes_anno\n",
    "\n",
    "# # prepare pathways matrix for heatmap annotation\n",
    "# pathway_selected_path = 'source_data/weighted_rat_ppi/selected_pathways.xlsx'\n",
    "# gene_expression_path = 'resource_data/SHVSM_diff_expr_gene_res.csv'\n",
    "# gene_info, pathways_gene_matrix = prepare_pathway_genes_anno(nodes_ppi, pathway_selected_path, gene_expression_path)\n",
    "# gene_info.to_csv('result/suhuang/target_gene_heat/gene_pathways_info.csv', index=None)\n",
    "# pathways_gene_matrix.to_csv('result/suhuang/target_gene_heat/pathways_gene_matrix.csv')"
   ]
  },
  {
   "cell_type": "markdown",
   "metadata": {},
   "source": [
    "## 4. prepare targets, CVA-genes, DEGs"
   ]
  },
  {
   "cell_type": "code",
   "execution_count": 6,
   "metadata": {},
   "outputs": [],
   "source": [
    "from utitilize import prepare_target_anno, prepare_all_DEGs, prepare_cva_disease_gene_\n",
    "\n",
    "# prepare annotation for target of ingredients\n",
    "target_threshold = 950\n",
    "ingre_anno_path = 'source_data/SUHUANG_h_ingre_.csv'\n",
    "save_path = 'result/suhuang/target_gene_heat'\n",
    "target_nodes = prepare_target_anno(950, ingre_anno_path, nodes_ppi, save_path)\n",
    "# get all DEGs\n",
    "DEG_path = 'source_data/weighted_rat_ppi/SHVSM_diff_expr_gene_res.csv'\n",
    "DEG_nodes = prepare_all_DEGs(DEG_path, nodes_ppi)\n",
    "# prepare CVA gene\n",
    "disease_gene_path = 'source_data/weighted_rat_ppi/gold_CVA_related_gene.csv'\n",
    "disease_nodes = prepare_cva_disease_gene_(disease_gene_path, nodes_ppi)"
   ]
  },
  {
   "cell_type": "markdown",
   "metadata": {},
   "source": [
    "## 5. calculate LR score for disease genes"
   ]
  },
  {
   "cell_type": "code",
   "execution_count": 7,
   "metadata": {},
   "outputs": [],
   "source": [
    "from cal_LR import cal_LR_disase_gene_DEG\n",
    "\n",
    "#  calculate local radility score\n",
    "DEG_dis_gene_distance_matrix, DEG_dis_gene_lr_score = cal_LR_disase_gene_DEG(g_obj.g, DEG_nodes, disease_nodes, weight=True)\n",
    "\n",
    "# save out\n",
    "DEG_dis_gene_distance_matrix.to_csv('result/suhuang/target_gene_dis/distance_disease_deg_pd_2.csv')\n",
    "DEG_dis_gene_lr_score.to_csv('result/suhuang/target_gene_dis/group_diseasegene_LR.csv')"
   ]
  },
  {
   "cell_type": "markdown",
   "metadata": {},
   "source": [
    "## 6. calculate heat diffusion score for target"
   ]
  },
  {
   "cell_type": "code",
   "execution_count": 10,
   "metadata": {},
   "outputs": [
    {
     "name": "stdout",
     "output_type": "stream",
     "text": [
      "cut threshold is 1.669029479\n",
      "The loss is  61.592683223447\n",
      "cuurent d [1.91472482 1.87915769 1.65853926 ... 1.87943502 1.87607394 1.868106  ]\n",
      "The loss is  6.491076920688713\n",
      "Converged after 2 iterations.\n",
      "The final diffusion vector is: [1.91472482 1.87915769 1.65853926 ... 1.87943502 1.87607394 1.868106  ]\n"
     ]
    }
   ],
   "source": [
    "from cal_heat_diffusion import cal_target_DEG_heat_score\n",
    "taregt_DEG_path  = 'result/suhuang/target_gene_dis/target_gene_dis_all.csv'\n",
    "EG_tar_dist_mat_binary = 'result/suhuang/target_gene_dis/DEG_taret_distance_matrix_binary.csv'\n",
    "\n",
    "diffusion_result_pd_suhuang = 'result/suhuang/target_gene_dis/diffusion_result_pd_suhunag.csv'\n",
    "\n",
    "suhuang_expressionp_pd = pd.read_csv('resource_data/SHVSM_expr_result_all.csv', index_col=0)\n",
    "\n",
    "# Set the diffusion time parameter t\n",
    "t = 0.1\n",
    "\n",
    "DEG_tar_distance_matrix, DEG_tar_dist_mat_binary, diffusion_result_pd = cal_target_DEG_heat_score(g_obj.G,\n",
    "                                                                                                  suhuang_expressionp_pd, \n",
    "                                                                                                  DEG_nodes,\n",
    "                                                                                                  target_nodes,\n",
    "                                                                                                  t,\n",
    "                                                                                                  taregt_DEG_path)\n",
    "\n",
    "DEG_tar_distance_matrix.to_csv(taregt_DEG_path)\n",
    "\n",
    "EG_tar_dist_mat_binary.to_csv(EG_tar_dist_mat_binary)\n",
    "\n",
    "diffusion_result_pd"
   ]
  },
  {
   "cell_type": "code",
   "execution_count": null,
   "metadata": {},
   "outputs": [],
   "source": [
    "\n",
    "# distance_disease_deg_pd = closest_distance_matrix(g_obj.g, deg_nodes_2, disease_nodes_2, weight=True)\n",
    "# distance_disease_deg_pd.to_csv('result/suhuang/target_gene_dis/distance_disease_deg_pd_2.csv')"
   ]
  }
 ],
 "metadata": {
  "kernelspec": {
   "display_name": "base",
   "language": "python",
   "name": "python3"
  },
  "language_info": {
   "codemirror_mode": {
    "name": "ipython",
    "version": 3
   },
   "file_extension": ".py",
   "mimetype": "text/x-python",
   "name": "python",
   "nbconvert_exporter": "python",
   "pygments_lexer": "ipython3",
   "version": "3.9.13"
  }
 },
 "nbformat": 4,
 "nbformat_minor": 2
}
